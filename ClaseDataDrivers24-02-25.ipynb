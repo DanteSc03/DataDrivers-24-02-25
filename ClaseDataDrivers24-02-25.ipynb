{
 "cells": [
  {
   "cell_type": "markdown",
   "metadata": {},
   "source": [
    "# Condicionales (if, if-else, if-elif-else)"
   ]
  },
  {
   "cell_type": "code",
   "execution_count": 1,
   "metadata": {},
   "outputs": [
    {
     "name": "stdout",
     "output_type": "stream",
     "text": [
      "Ejemplo de If básico:\n",
      "✅ Eres mayor de edad, puedes votar.\n"
     ]
    }
   ],
   "source": [
    "# 1. Uso básico de if\n",
    "print(\"Ejemplo de If básico:\")\n",
    "edad = 18\n",
    "if edad >= 18:\n",
    "    print(\"✅ Eres mayor de edad, puedes votar.\")"
   ]
  },
  {
   "cell_type": "code",
   "execution_count": 2,
   "metadata": {},
   "outputs": [
    {
     "name": "stdout",
     "output_type": "stream",
     "text": [
      "\n",
      "Ejemplo de If-Else:\n",
      "❄️ Hace frío, ponte un abrigo.\n"
     ]
    }
   ],
   "source": [
    "# 2. If-Else\n",
    "print(\"\\nEjemplo de If-Else:\")\n",
    "temperature = 15\n",
    "if temperature > 20:\n",
    "    print(\"🌞 Hace calor, usa ropa ligera.\")\n",
    "else:\n",
    "    print(\"❄️ Hace frío, ponte un abrigo.\")"
   ]
  },
  {
   "cell_type": "code",
   "execution_count": 3,
   "metadata": {},
   "outputs": [
    {
     "name": "stdout",
     "output_type": "stream",
     "text": [
      "\n",
      "Ejemplo de If-Elif-Else:\n",
      "👍 Buen esfuerzo!\n"
     ]
    }
   ],
   "source": [
    "# 3. If-Elif-Else con categorías\n",
    "print(\"\\nEjemplo de If-Elif-Else:\")\n",
    "puntuacion = 85\n",
    "if puntuacion >= 90:\n",
    "    print(\"🏆 Excelente trabajo!\")\n",
    "elif puntuacion >= 70:\n",
    "    print(\"👍 Buen esfuerzo!\")\n",
    "else:\n",
    "    print(\"📚 Necesitas mejorar.\")"
   ]
  },
  {
   "cell_type": "code",
   "execution_count": 4,
   "metadata": {},
   "outputs": [
    {
     "name": "stdout",
     "output_type": "stream",
     "text": [
      "\n",
      "Ejemplo con entrada del usuario:\n",
      "👋 ¡Hola, Dante!\n"
     ]
    }
   ],
   "source": [
    "# 4. Condición con entrada del usuario\n",
    "print(\"\\nEjemplo con entrada del usuario:\")\n",
    "usuario = input(\"Ingresa tu nombre: \")\n",
    "if usuario:\n",
    "    print(f\"👋 ¡Hola, {usuario}!\")\n",
    "else:\n",
    "    print(\"⚠️ No ingresaste un nombre.\")"
   ]
  },
  {
   "cell_type": "code",
   "execution_count": 5,
   "metadata": {},
   "outputs": [
    {
     "name": "stdout",
     "output_type": "stream",
     "text": [
      "\n",
      "Ejemplo de condiciones múltiples:\n",
      "✅ Es verde o es un círculo.\n"
     ]
    }
   ],
   "source": [
    "# 5. Comprobando múltiplas condiciones\n",
    "print(\"\\nEjemplo de condiciones múltiples:\")\n",
    "color = \"verde\"\n",
    "forma = \"círculo\"\n",
    "if color == \"rojo\" and forma == \"círculo\":\n",
    "    print(\"🔴 Es un círculo rojo.\")\n",
    "elif color == \"verde\" or forma == \"círculo\":\n",
    "    print(\"✅ Es verde o es un círculo.\")\n",
    "else:\n",
    "    print(\"❌ No coincide con los criterios.\")"
   ]
  },
  {
   "cell_type": "code",
   "execution_count": 6,
   "metadata": {},
   "outputs": [
    {
     "name": "stdout",
     "output_type": "stream",
     "text": [
      "\n",
      "Ejemplo de not:\n",
      "⛔ Acceso denegado.\n"
     ]
    }
   ],
   "source": [
    "# 6. Uso de not para invertir lógica\n",
    "print(\"\\nEjemplo de not:\")\n",
    "tiene_permiso = False\n",
    "if not tiene_permiso:\n",
    "    print(\"⛔ Acceso denegado.\")\n",
    "else:\n",
    "    print(\"✅ Acceso concedido.\")"
   ]
  },
  {
   "cell_type": "markdown",
   "metadata": {},
   "source": [
    "# Bucles"
   ]
  },
  {
   "cell_type": "code",
   "execution_count": 7,
   "metadata": {},
   "outputs": [
    {
     "name": "stdout",
     "output_type": "stream",
     "text": [
      "Ejemplo de Bucle For:\n",
      "🏆 Iteración 1: ¡Vamos allá!\n",
      "🏆 Iteración 2: ¡Vamos allá!\n",
      "🏆 Iteración 3: ¡Vamos allá!\n",
      "🏆 Iteración 4: ¡Vamos allá!\n",
      "🏆 Iteración 5: ¡Vamos allá!\n"
     ]
    }
   ],
   "source": [
    "# 1. Bucle For con Interacción Intuitiva\n",
    "print(\"Ejemplo de Bucle For:\")\n",
    "for i in range(1, 6):  # Bucle de 1 a 5\n",
    "    print(f\"🏆 Iteración {i}: ¡Vamos allá!\")"
   ]
  },
  {
   "cell_type": "code",
   "execution_count": 8,
   "metadata": {},
   "outputs": [
    {
     "name": "stdout",
     "output_type": "stream",
     "text": [
      "\n",
      "Ejemplo de Bucle While:\n",
      "Tienes 3 intentos restantes.\n",
      "Tienes 2 intentos restantes.\n",
      "Tienes 1 intentos restantes.\n",
      "¡Se acabaron los intentos!\n"
     ]
    }
   ],
   "source": [
    "# 2. Bucle While con Interfaz de Usuario\n",
    "print(\"\\nEjemplo de Bucle While:\")\n",
    "attempts = 3\n",
    "while attempts > 0:\n",
    "    print(f\"Tienes {attempts} intentos restantes.\")\n",
    "    attempts -= 1  # Reducir intentos\n",
    "print(\"¡Se acabaron los intentos!\")"
   ]
  },
  {
   "cell_type": "code",
   "execution_count": 9,
   "metadata": {},
   "outputs": [
    {
     "name": "stdout",
     "output_type": "stream",
     "text": [
      "\n",
      "Recorriendo una Lista de Compras:\n",
      "Debo comprar: 🍎 Manzana\n",
      "Debo comprar: 🍞 Pan\n",
      "Debo comprar: 🥛 Leche\n"
     ]
    }
   ],
   "source": [
    "# 3. Bucle a través de una lista con Descripción\n",
    "print(\"\\nRecorriendo una Lista de Compras:\")\n",
    "compras = [\"🍎 Manzana\", \"🍞 Pan\", \"🥛 Leche\"]\n",
    "for item in compras:\n",
    "    print(f\"Debo comprar: {item}\")"
   ]
  },
  {
   "cell_type": "code",
   "execution_count": 10,
   "metadata": {},
   "outputs": [
    {
     "name": "stdout",
     "output_type": "stream",
     "text": [
      "\n",
      "Juego de Números Pares e Impares:\n",
      "🎯 0 es par, lo saltamos.\n",
      "🔥 1 es impar, seguimos jugando.\n",
      "🎯 2 es par, lo saltamos.\n",
      "🔥 3 es impar, seguimos jugando.\n",
      "🎯 4 es par, lo saltamos.\n",
      "🔥 5 es impar, seguimos jugando.\n",
      "🎯 6 es par, lo saltamos.\n",
      "Número de la suerte encontrado, terminando el juego.\n"
     ]
    }
   ],
   "source": [
    "# 4. Bucle con Break y Continue en Juego\n",
    "print(\"\\nJuego de Números Pares e Impares:\")\n",
    "for i in range(10):\n",
    "    if i == 7:\n",
    "        print(\"Número de la suerte encontrado, terminando el juego.\")\n",
    "        break  # Salir cuando i es 7\n",
    "    if i % 2 == 0:\n",
    "        print(f\"🎯 {i} es par, lo saltamos.\")\n",
    "        continue  # Saltar números pares\n",
    "    print(f\"🔥 {i} es impar, seguimos jugando.\")"
   ]
  },
  {
   "cell_type": "code",
   "execution_count": 11,
   "metadata": {},
   "outputs": [
    {
     "name": "stdout",
     "output_type": "stream",
     "text": [
      "\n",
      "Tablero de Juego 3x3:\n",
      "🎲 Posición [1, 1]\n",
      "🎲 Posición [1, 2]\n",
      "🎲 Posición [1, 3]\n",
      "🎲 Posición [2, 1]\n",
      "🎲 Posición [2, 2]\n",
      "🎲 Posición [2, 3]\n",
      "🎲 Posición [3, 1]\n",
      "🎲 Posición [3, 2]\n",
      "🎲 Posición [3, 3]\n"
     ]
    }
   ],
   "source": [
    "# 5. Bucles Anidados con Tablero\n",
    "print(\"\\nTablero de Juego 3x3:\")\n",
    "for fila in range(1, 4):\n",
    "    for columna in range(1, 4):\n",
    "        print(f\"🎲 Posición [{fila}, {columna}]\")"
   ]
  },
  {
   "cell_type": "code",
   "execution_count": 12,
   "metadata": {},
   "outputs": [
    {
     "name": "stdout",
     "output_type": "stream",
     "text": [
      "\n",
      "Notas de Estudiantes:\n",
      "📚 Alicia obtuvo 90 puntos\n",
      "📚 Bob obtuvo 85 puntos\n",
      "📚 Carlos obtuvo 88 puntos\n"
     ]
    }
   ],
   "source": [
    "# 6. Recorriendo un Diccionario con Estudiantes\n",
    "print(\"\\nNotas de Estudiantes:\")\n",
    "notas_estudiantes = {\"Alicia\": 90, \"Bob\": 85, \"Carlos\": 88}\n",
    "for nombre, nota in notas_estudiantes.items():\n",
    "    print(f\"📚 {nombre} obtuvo {nota} puntos\")"
   ]
  },
  {
   "cell_type": "code",
   "execution_count": 13,
   "metadata": {},
   "outputs": [
    {
     "name": "stdout",
     "output_type": "stream",
     "text": [
      "\n",
      "Ejemplo de Comprensión de Listas:\n",
      "🔢 Cuadrados: [1, 4, 9, 16, 25]\n"
     ]
    }
   ],
   "source": [
    "# 7. Comprensión de Listas con Potencias\n",
    "print(\"\\nEjemplo de Comprensión de Listas:\")\n",
    "cuadrados = [x**2 for x in range(1, 6)]\n",
    "print(\"🔢 Cuadrados:\", cuadrados)"
   ]
  },
  {
   "cell_type": "code",
   "execution_count": 14,
   "metadata": {},
   "outputs": [
    {
     "name": "stdout",
     "output_type": "stream",
     "text": [
      "\n",
      "Recorriendo una Cadena de Texto:\n",
      "Letra: 🐶\n",
      "Letra: P\n",
      "Letra: e\n",
      "Letra: r\n",
      "Letra: r\n",
      "Letra: o\n"
     ]
    }
   ],
   "source": [
    "# 8. Bucle sobre una cadena de texto con Animales\n",
    "print(\"\\nRecorriendo una Cadena de Texto:\")\n",
    "animal = \"🐶Perro\"\n",
    "for letra in animal:\n",
    "    print(f\"Letra: {letra}\")"
   ]
  },
  {
   "cell_type": "code",
   "execution_count": 15,
   "metadata": {},
   "outputs": [
    {
     "name": "stdout",
     "output_type": "stream",
     "text": [
      "\n",
      "Ranking de Videojuegos:\n",
      "🏅 Puesto 1: 🎮 Mario\n",
      "🏅 Puesto 2: 🕹 Sonic\n",
      "🏅 Puesto 3: 🏹 Zelda\n"
     ]
    }
   ],
   "source": [
    "# 9. Usando enumerate con Ranking de Juegos\n",
    "print(\"\\nRanking de Videojuegos:\")\n",
    "juegos = [\"🎮 Mario\", \"🕹 Sonic\", \"🏹 Zelda\"]\n",
    "for indice, juego in enumerate(juegos, start=1):\n",
    "    print(f\"🏅 Puesto {indice}: {juego}\")\n"
   ]
  },
  {
   "cell_type": "code",
   "execution_count": 16,
   "metadata": {},
   "outputs": [
    {
     "name": "stdout",
     "output_type": "stream",
     "text": [
      "\n",
      "Jugadores y sus Puntajes:\n",
      "Ana tiene una puntuación de 150 puntos.\n",
      "Luis tiene una puntuación de 200 puntos.\n",
      "María tiene una puntuación de 180 puntos.\n"
     ]
    }
   ],
   "source": [
    "# 10. Uso de zip para emparejar nombres y puntuaciones\n",
    "print(\"\\nJugadores y sus Puntajes:\")\n",
    "nombres = [\"Ana\", \"Luis\", \"María\"]\n",
    "puntajes = [150, 200, 180]\n",
    "for nombre, puntaje in zip(nombres, puntajes):\n",
    "    print(f\"{nombre} tiene una puntuación de {puntaje} puntos.\")"
   ]
  },
  {
   "cell_type": "markdown",
   "metadata": {},
   "source": [
    "# Ejercicios"
   ]
  },
  {
   "cell_type": "markdown",
   "metadata": {},
   "source": [
    "### Condicionales (if, if-else, if-elif-else)"
   ]
  },
  {
   "cell_type": "markdown",
   "metadata": {},
   "source": [
    "1. Escribe un programa que pida al usuario su edad y diga si puede conducir (mayor o igual a 18 años)."
   ]
  },
  {
   "cell_type": "code",
   "execution_count": null,
   "metadata": {},
   "outputs": [],
   "source": []
  },
  {
   "cell_type": "markdown",
   "metadata": {},
   "source": [
    "2. Crear un programa que verifique si un número ingresado es positivo, negativo o cero."
   ]
  },
  {
   "cell_type": "code",
   "execution_count": null,
   "metadata": {},
   "outputs": [],
   "source": []
  },
  {
   "cell_type": "markdown",
   "metadata": {},
   "source": [
    "3. Programa que pregunte al usuario una contraseña y verifique si es correcta (contraseña predefinida: \"Python123\")."
   ]
  },
  {
   "cell_type": "code",
   "execution_count": null,
   "metadata": {},
   "outputs": [],
   "source": []
  },
  {
   "cell_type": "markdown",
   "metadata": {},
   "source": [
    "### Bucles"
   ]
  },
  {
   "cell_type": "markdown",
   "metadata": {},
   "source": [
    "1. Escribir un programa que imprima los números del 1 al 10 usando un bucle for."
   ]
  },
  {
   "cell_type": "code",
   "execution_count": null,
   "metadata": {},
   "outputs": [],
   "source": []
  },
  {
   "cell_type": "markdown",
   "metadata": {},
   "source": [
    "2. Crear un programa que pida al usuario una palabra y la repita 5 veces con un bucle while."
   ]
  },
  {
   "cell_type": "code",
   "execution_count": null,
   "metadata": {},
   "outputs": [],
   "source": []
  },
  {
   "cell_type": "markdown",
   "metadata": {},
   "source": [
    "3. Programa que recorra una lista de frutas e imprima cada una."
   ]
  },
  {
   "cell_type": "code",
   "execution_count": null,
   "metadata": {},
   "outputs": [],
   "source": []
  },
  {
   "cell_type": "markdown",
   "metadata": {},
   "source": [
    "# Challenge"
   ]
  },
  {
   "cell_type": "markdown",
   "metadata": {},
   "source": [
    "Convierte el siguiente código en un bucle for para procesar todas las imágenes en un rango, desde IMG_001.jpg hasta IMG_043.jpg."
   ]
  },
  {
   "cell_type": "code",
   "execution_count": null,
   "metadata": {},
   "outputs": [],
   "source": [
    "from PIL import Image\n",
    "\n",
    "def resize_image(input_path, output_path, new_width):\n",
    "    img = Image.open(input_path)\n",
    "    aspect_ratio = img.height / img.width\n",
    "    new_height = int(new_width * aspect_ratio)\n",
    "    \n",
    "    img_resized = img.resize((new_width, new_height), Image.LANCZOS)\n",
    "    img_resized.save(output_path, quality=100)\n",
    "\n",
    "resize_image(\"/Path/to/input.jpg\", \"/Path/to/output.jpg\", 1280)"
   ]
  },
  {
   "cell_type": "code",
   "execution_count": null,
   "metadata": {},
   "outputs": [],
   "source": [
    "# Respuesta"
   ]
  }
 ],
 "metadata": {
  "kernelspec": {
   "display_name": "Python 3",
   "language": "python",
   "name": "python3"
  },
  "language_info": {
   "codemirror_mode": {
    "name": "ipython",
    "version": 3
   },
   "file_extension": ".py",
   "mimetype": "text/x-python",
   "name": "python",
   "nbconvert_exporter": "python",
   "pygments_lexer": "ipython3",
   "version": "3.9.6"
  }
 },
 "nbformat": 4,
 "nbformat_minor": 2
}
